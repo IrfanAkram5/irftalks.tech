{
 "cells": [
  {
   "cell_type": "markdown",
   "metadata": {},
   "source": [
    "# Using the zip function, generating repeated sequences and randomizing lists\n",
    "\n",
    "Python has a lot of friendly functions and modules.  When beginning with python programming, it is not immediately obvious how and when they would be useful unless you are of a scientific bent.  This is because most examples seem to be either very trivial or heavy into the maths and engineering applications which don't resonate with most people. All you're trying to do is a get a blog site up and running!\n",
    "\n",
    "However, it is useful to tuck away a mental note of some capabilities or modules as you do not know when they will come in useful.  When it comes to looping, you should be tuck away a mental note of the  [itertools](https://docs.python.org/3/library/itertools.html) module that comes with python. The [random](https://docs.python.org/3/library/random.html) is another.  the `zip()` combines to sequences and is part of the core(no import of module required ). Even with non-scientific applications, code long enough and you will find yourself reaching into the toolbox. "
   ]
  },
  {
   "cell_type": "code",
   "execution_count": 9,
   "metadata": {},
   "outputs": [],
   "source": [
    "# Imports - if you see a function in the cells below and wonder\n",
    "# where it came from, check back here!\n",
    "from itertools import repeat, zip_longest\n",
    "from random import shuffle"
   ]
  },
  {
   "cell_type": "markdown",
   "metadata": {},
   "source": [
    "## Generating repeat sequences\n",
    "\n",
    "A lot of introductory articles go over over this.  Examples below."
   ]
  },
  {
   "cell_type": "code",
   "execution_count": 10,
   "metadata": {},
   "outputs": [
    {
     "name": "stdout",
     "output_type": "stream",
     "text": [
      "strM5 = 'MMMMM' type(strM5) = <class 'str'>\n"
     ]
    }
   ],
   "source": [
    "# Repeat the letter \"M\" 5 times\n",
    "strM5 = 'M' * 5\n",
    "print(f'{strM5 = }', f'{type(strM5) = }')"
   ]
  },
  {
   "cell_type": "code",
   "execution_count": 11,
   "metadata": {},
   "outputs": [
    {
     "name": "stdout",
     "output_type": "stream",
     "text": [
      "listOfM5 = ['M', 'M', 'M', 'M', 'M'] type(listOfM5) = <class 'list'>\n",
      "num_list = [1, 3, 1, 1, 3, 1, 1, 3, 1, 1, 3, 1, 1, 3, 1] type(num_list) = <class 'list'>\n",
      "Repeat 1,2,3 4 times:\n",
      " [[1, 2, 3], [1, 2, 3], [1, 2, 3], [1, 2, 3]]\n",
      "Repeat letter M 4 time:\n",
      " ['M', 'M', 'M', 'M']\n"
     ]
    }
   ],
   "source": [
    "# A string is an iterable any way.  But if you want it as a list\n",
    "\n",
    "listOfM5 = ['M'] * 5\n",
    "print(f'{listOfM5 = }', f'{type(listOfM5) = }')\n",
    "\n",
    "# list of numbers repeated\n",
    "num_list = [1,3,1] * 5\n",
    "print(f'{num_list = }', f'{type(num_list) = }')\n",
    "\n",
    "# Itertools also has a repeat function.  It is a lazy generator so you have to wrap it\n",
    "# in a list function if you want everything immediately.  Note the difference\n",
    "# with output of line 8 - this is a list of lists - it returns the object n times\n",
    "print(f'Repeat 1,2,3 4 times:\\n', list(repeat([1,2,3], 4)))\n",
    "print(f'Repeat letter M 4 time:\\n', list(repeat(\"M\", 4)))\n"
   ]
  },
  {
   "cell_type": "markdown",
   "metadata": {},
   "source": [
    "## Combining it with a zip function\n",
    "\n",
    "So how is all this useful?  I needed to  pull out two different sets from a database and merge them together.  Set1 I needed to tag with \"blue\".  Set2 with \"red\".\n",
    "I will just use lists to mimic the two sets records.\n",
    "\n",
    "There are several ways to go about this but as this post is focused on the zip function and repetition, we'll focus on those.\n",
    "\n",
    "### Method1: Generate repeated items as list and zip"
   ]
  },
  {
   "cell_type": "code",
   "execution_count": 12,
   "metadata": {},
   "outputs": [
    {
     "name": "stdout",
     "output_type": "stream",
     "text": [
      "list1 = ['person0', 'person1', 'person2', 'person3', 'person4']\n",
      "list2 = ['person5', 'person6', 'person7', 'person8', 'person9', 'person10', 'person11']\n"
     ]
    }
   ],
   "source": [
    "list1 = [\"person\" + str(n) for n in range(5) ]\n",
    "print(f'{list1 = }')\n",
    "list2 = [\"person\" + str(n) for n in range(5,12) ]\n",
    "print(f'{list2 = }')\n"
   ]
  },
  {
   "cell_type": "code",
   "execution_count": 13,
   "metadata": {},
   "outputs": [
    {
     "name": "stdout",
     "output_type": "stream",
     "text": [
      "blues = ['blue', 'blue', 'blue', 'blue', 'blue']\n",
      "reds = ['red', 'red', 'red', 'red', 'red', 'red', 'red']\n"
     ]
    }
   ],
   "source": [
    "# Tag everyone in set1 with blue\n",
    "# One possible way\n",
    "\n",
    "blues = [\"blue\"] * len(list1)\n",
    "print(f'{blues = }')\n",
    "reds = [\"red\"] * len(list2)\n",
    "print(f'{reds = }')\n"
   ]
  },
  {
   "cell_type": "markdown",
   "metadata": {},
   "source": [
    "We can now zip the two lists together"
   ]
  },
  {
   "cell_type": "code",
   "execution_count": 14,
   "metadata": {},
   "outputs": [
    {
     "name": "stdout",
     "output_type": "stream",
     "text": [
      "bluelist =[('person0', 'blue'), ('person1', 'blue'), ('person2', 'blue'), ('person3', 'blue'), ('person4', 'blue')] \n",
      " redlist = [('person5', 'red'), ('person6', 'red'), ('person7', 'red'), ('person8', 'red'), ('person9', 'red'), ('person10', 'red'), ('person11', 'red')]\n"
     ]
    }
   ],
   "source": [
    "bluelist = list(zip(list1, blues))\n",
    "redlist = list(zip(list2, reds))\n",
    "print(f'{bluelist =}',\"\\n\", f'{redlist = }' )"
   ]
  },
  {
   "cell_type": "markdown",
   "metadata": {},
   "source": [
    "### Method2: Using repeat function\n",
    "\n",
    "Method1 is on the inefficient side because we are generating a list to hold the same value n times.  If your list size is a handful, who cares!  But if it is very large, it may cause memory issues.  Using the repeat function, we can achieve the same outcome without generating the \"blues\" and \"reds\" lists."
   ]
  },
  {
   "cell_type": "code",
   "execution_count": 15,
   "metadata": {},
   "outputs": [
    {
     "name": "stdout",
     "output_type": "stream",
     "text": [
      "bluelist_r =[('person0', 'blue'), ('person1', 'blue'), ('person2', 'blue'), ('person3', 'blue'), ('person4', 'blue')] \n",
      " redlist_r = [('person5', 'red'), ('person6', 'red'), ('person7', 'red'), ('person8', 'red'), ('person9', 'red'), ('person10', 'red'), ('person11', 'red')]\n"
     ]
    }
   ],
   "source": [
    "# Same end result using repeat\n",
    "bluelist_r = list(zip(list1, repeat(\"blue\")))\n",
    "redlist_r = list(zip(list2, repeat(\"red\")))\n",
    "print(f'{bluelist_r =}',\"\\n\", f'{redlist_r = }' )\n"
   ]
  },
  {
   "cell_type": "markdown",
   "metadata": {},
   "source": [
    "## Merge and randomize the order\n",
    "\n",
    "Now we are ready to merge the two sequences and randomize the order(if you so wish).\n"
   ]
  },
  {
   "cell_type": "code",
   "execution_count": 16,
   "metadata": {},
   "outputs": [
    {
     "name": "stdout",
     "output_type": "stream",
     "text": [
      "[('person4', 'blue'), ('person0', 'blue'), ('person3', 'blue'), ('person8', 'red'), ('person9', 'red'), ('person7', 'red'), ('person6', 'red'), ('person10', 'red'), ('person2', 'blue'), ('person5', 'red'), ('person1', 'blue'), ('person11', 'red')]\n"
     ]
    }
   ],
   "source": [
    "# Merge the two lists first. Nothing fancy, just use the plus operator\n",
    "combined_list = bluelist + redlist\n",
    "\n",
    "#Shuffle does not return anything.  It work inplace\n",
    "shuffle(combined_list)\n",
    "print(combined_list)\n",
    "\n",
    "# If we don't to keep one of the lists around, we could use extend\n",
    "bluelist.extend(redlist)\n",
    "print(f'\\nPrint blue list:\\n{bluelist}')\n"
   ]
  },
  {
   "cell_type": "markdown",
   "metadata": {},
   "source": [
    "## Using repeat in for loop\n",
    "\n",
    "Using repeat in a loop is also more efficient then using range if you have no need for the generated number. "
   ]
  },
  {
   "cell_type": "code",
   "execution_count": 46,
   "metadata": {},
   "outputs": [
    {
     "name": "stdout",
     "output_type": "stream",
     "text": [
      "time_finish = 8690278977 ns or 8.690278977 for range loop\n",
      "time_finish = 8771567248 ns or 8.771567248 seconds for repeat loop\n"
     ]
    }
   ],
   "source": [
    "import shortuuid\n",
    "import time\n",
    "from itertools import repeat\n",
    "\n",
    "# Adjust number of characters to suit purpose\n",
    "# First Using range\n",
    "time_start = time.monotonic_ns()\n",
    "rg_set = set(shortuuid.uuid() for n in range(1000000))\n",
    "time_finish = time.monotonic_ns() - time_start\n",
    "print(f'{time_finish = } ns or {time_finish / 1000000000} for range loop')\n",
    "\n",
    "\n",
    "# Same thing but using repeat\n",
    "time_start = time.monotonic_ns()\n",
    "rp_set = set(shortuuid.uuid() for n in repeat(None,1000000))\n",
    "time_finish = time.monotonic_ns() - time_start\n",
    "print(f'{time_finish = } ns or {time_finish / 1000000000} seconds for repeat loop')\n"
   ]
  },
  {
   "cell_type": "markdown",
   "metadata": {},
   "source": [
    "## Additional notes on zip() and repeat()\n",
    "\n",
    "The zip function will continue until the shortest input is exhausted, which in the above cases are list1 and list2.\n",
    "The repeat function will continue indefinitely unless given the *times* parameter.  You can tell zip to go with the longest list by using zip_longest. zip_longest is in the itertools module.  Example below;"
   ]
  },
  {
   "cell_type": "code",
   "execution_count": 17,
   "metadata": {},
   "outputs": [
    {
     "name": "stdout",
     "output_type": "stream",
     "text": [
      "bluelist10 = [('person0', 'blue'), ('person1', 'blue'), ('person2', 'blue'), ('person3', 'blue'), ('person4', 'blue'), (None, 'blue'), (None, 'blue'), (None, 'blue'), (None, 'blue'), (None, 'blue')]\n"
     ]
    }
   ],
   "source": [
    "bluelist10 = list(zip_longest(list1, repeat(\"blue\",10)))\n",
    "print(f'{bluelist10 = }')"
   ]
  },
  {
   "cell_type": "code",
   "execution_count": null,
   "metadata": {},
   "outputs": [
    {
     "ename": "",
     "evalue": "",
     "output_type": "error",
     "traceback": [
      "\u001b[1;31mCanceled future for execute_request message before replies were done"
     ]
    },
    {
     "ename": "",
     "evalue": "",
     "output_type": "error",
     "traceback": [
      "\u001b[1;31mThe Kernel crashed while executing code in the the current cell or a previous cell. Please review the code in the cell(s) to identify a possible cause of the failure. Click <a href='https://aka.ms/vscodeJupyterKernelCrash'>here</a> for more info. View Jupyter <a href='command:jupyter.viewOutput'>log</a> for further details."
     ]
    }
   ],
   "source": [
    "# But be careful.  If you use zip_longest without a limit on the \"repeat\"\n",
    "# function, it will continue forever or in this case, crash!\n",
    "\n",
    "infinite_blues = list(zip_longest(list1, repeat(\"blue\")))"
   ]
  },
  {
   "cell_type": "markdown",
   "metadata": {},
   "source": [
    "Additional ref:\n",
    "\n",
    "[StackOverflow answer](https://stackoverflow.com/questions/9059173/what-is-the-purpose-of-pythons-itertools-repeat) Note: If Raymond Hettinger answers a python question in StackOverflow, you don't need to worry about correctness! "
   ]
  }
 ],
 "metadata": {
  "kernelspec": {
   "display_name": "Python 3.10.6 ('MarkDownProj': conda)",
   "language": "python",
   "name": "python3"
  },
  "language_info": {
   "codemirror_mode": {
    "name": "ipython",
    "version": 3
   },
   "file_extension": ".py",
   "mimetype": "text/x-python",
   "name": "python",
   "nbconvert_exporter": "python",
   "pygments_lexer": "ipython3",
   "version": "3.10.6"
  },
  "orig_nbformat": 4,
  "vscode": {
   "interpreter": {
    "hash": "766b0ff77e2c2a01ba5795c1fb63ba3ef2d2dde77fa21605c4625709e45323e9"
   }
  }
 },
 "nbformat": 4,
 "nbformat_minor": 2
}
